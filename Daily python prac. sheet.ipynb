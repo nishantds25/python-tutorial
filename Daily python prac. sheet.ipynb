{
 "cells": [
  {
   "cell_type": "markdown",
   "id": "35ce0f27-254a-4ba5-8e20-c290f3b4f89f",
   "metadata": {},
   "source": [
    "#### wap to display whether the given number is even or odd"
   ]
  },
  {
   "cell_type": "code",
   "execution_count": 4,
   "id": "0d4193b1-52e8-4a26-af17-a11f6322c33f",
   "metadata": {},
   "outputs": [
    {
     "name": "stdin",
     "output_type": "stream",
     "text": [
      "enter the number 6\n"
     ]
    },
    {
     "name": "stdout",
     "output_type": "stream",
     "text": [
      "even\n"
     ]
    }
   ],
   "source": [
    "n=int(input(\"enter the number\"))\n",
    "if n%2==0:\n",
    "    print(\"even\")\n",
    "else:\n",
    "    print(\"odd\")"
   ]
  },
  {
   "cell_type": "markdown",
   "id": "ced2dfac-e0d2-4f6b-8f84-c57eba7ae6de",
   "metadata": {},
   "source": [
    "#### wap to display largest among the two numbers given by user"
   ]
  },
  {
   "cell_type": "code",
   "execution_count": 17,
   "id": "20647a54-2f9b-4080-bc07-d1d17fee34b7",
   "metadata": {},
   "outputs": [
    {
     "name": "stdin",
     "output_type": "stream",
     "text": [
      "enter the first number 5\n",
      "enter the second number 5\n"
     ]
    },
    {
     "name": "stdout",
     "output_type": "stream",
     "text": [
      "both are equal\n"
     ]
    }
   ],
   "source": [
    "n1=float(input(\"enter the first number\"))\n",
    "n2=float(input(\"enter the second number\"))\n",
    "if n1>n2:\n",
    "    print(\"n1 is greater\",n1)\n",
    "elif n2>n1:\n",
    "    print(\"n2 is greater\",n2)\n",
    "else:\n",
    "    print(\"both are equal\")\n"
   ]
  },
  {
   "cell_type": "code",
   "execution_count": 19,
   "id": "35f9793b-cb85-4299-9591-6d046690f258",
   "metadata": {},
   "outputs": [],
   "source": [
    "# or"
   ]
  },
  {
   "cell_type": "code",
   "execution_count": 27,
   "id": "4abd90f0-ae67-4ea6-aed4-7311d526374c",
   "metadata": {},
   "outputs": [
    {
     "name": "stdin",
     "output_type": "stream",
     "text": [
      "enter the first number 5\n",
      "enter the second number 5\n"
     ]
    },
    {
     "name": "stdout",
     "output_type": "stream",
     "text": [
      "both are equal\n"
     ]
    }
   ],
   "source": [
    "n1=float(input(\"enter the first number\"))\n",
    "n2=float(input(\"enter the second number\"))\n",
    "if n1>n2:\n",
    "    print(\"n1 is greater\",n1)\n",
    "elif n2>n1:\n",
    "    print(\"n2 is greater\",n2)\n",
    "elif n1==n2:\n",
    "    print(\"both are equal\")\n"
   ]
  },
  {
   "cell_type": "markdown",
   "id": "3905fb10-b29f-43f5-bc87-a5d39719391c",
   "metadata": {},
   "source": [
    "#### wap to display that you are eligible for voting\n"
   ]
  },
  {
   "cell_type": "code",
   "execution_count": 43,
   "id": "f3c49e03-061d-4a2d-9861-c56755b2c1a3",
   "metadata": {},
   "outputs": [
    {
     "name": "stdin",
     "output_type": "stream",
     "text": [
      "enter the age 18\n"
     ]
    },
    {
     "name": "stdout",
     "output_type": "stream",
     "text": [
      "valid for voting\n"
     ]
    }
   ],
   "source": [
    "n=float(input(\"enter the age\"))\n",
    "if n>0 and n<18:\n",
    "    print(\"not valid\")\n",
    "elif n>=18:\n",
    "    print(\"valid for voting\")\n",
    "else:\n",
    "    print(\"negative entry\")\n",
    "\n",
    "        "
   ]
  },
  {
   "cell_type": "markdown",
   "id": "bad1c340-4eac-4021-96fe-9e88718869c3",
   "metadata": {},
   "source": [
    "#### wap to display \n",
    " - Happy: Given number is divisible by 5\n",
    " - Sad: Given number is divisble by 6\n",
    " - Excited : Given number is divisible by both 5 and 6.\n",
    "  "
   ]
  },
  {
   "cell_type": "code",
   "execution_count": null,
   "id": "b2919745-0420-49ee-9737-bea093249bf6",
   "metadata": {},
   "outputs": [],
   "source": [
    "n=float(input(\"enter the number\"))\n",
    "if n%5==0 and n%6==0:\n",
    "    print(\"Excited\")\n",
    "elif n%6==0:\n",
    "    print(\"Sad\")\n",
    "elif n%5==0:\n",
    "    print(\"Happy\")\n",
    "else:\n",
    "    print(\"number is neither divisible by 5 nor by 6\")\n"
   ]
  },
  {
   "cell_type": "code",
   "execution_count": 21,
   "id": "cd8af856-b934-420f-a04e-16155b079c2d",
   "metadata": {},
   "outputs": [
    {
     "name": "stdin",
     "output_type": "stream",
     "text": [
      "enter the number 10\n",
      "enter the number 30\n"
     ]
    },
    {
     "name": "stdout",
     "output_type": "stream",
     "text": [
      "happy\n",
      "sad\n",
      "excited\n"
     ]
    }
   ],
   "source": [
    "n=int(input(\"enter the number\"))\n",
    "o=int(input(\"enter the number\"))\n",
    "count_56=0\n",
    "count_5=0\n",
    "count_6=0\n",
    "\n",
    "for i in range(n,o+1):\n",
    "    if i%5==0 and i%6==0:\n",
    "        count_56=count_56+1\n",
    "    elif i%5==0:\n",
    "        count_5=count_5+1\n",
    "    elif i%6==0:\n",
    "        count_6=count_6+1\n",
    "if count_5>=1:\n",
    "    print(\"happy\")\n",
    "if count_6>=1:\n",
    "    print(\"sad\")\n",
    "if count_56<=1:\n",
    "    print(\"excited\")\n",
    "\n",
    "    "
   ]
  },
  {
   "cell_type": "code",
   "execution_count": 39,
   "id": "f4ef1447-0748-4c7b-b877-505221dafc44",
   "metadata": {},
   "outputs": [
    {
     "name": "stdin",
     "output_type": "stream",
     "text": [
      "enter the number 15\n"
     ]
    },
    {
     "name": "stdout",
     "output_type": "stream",
     "text": [
      "1 factor of 15\n",
      "3 factor of 15\n",
      "5 factor of 15\n",
      "15 factor of 15\n",
      "4\n"
     ]
    }
   ],
   "source": [
    "n=int(input(\"enter the number\"))\n",
    "count=0\n",
    "for i in range(1,n+1):\n",
    "    if n%i==0:\n",
    "        print(i,\"factor of\",n)\n",
    "        count=count+1\n",
    "print(count)\n",
    "        "
   ]
  },
  {
   "cell_type": "code",
   "execution_count": 45,
   "id": "c05cc0b8-f9c3-493b-95c7-22d855778a7a",
   "metadata": {},
   "outputs": [
    {
     "name": "stdin",
     "output_type": "stream",
     "text": [
      "enter the number 17\n"
     ]
    },
    {
     "name": "stdout",
     "output_type": "stream",
     "text": [
      "1 factor of 17\n",
      "17 factor of 17\n",
      "17 is prime\n"
     ]
    }
   ],
   "source": [
    "n=int(input(\"enter the number\"))\n",
    "count=0\n",
    "for i in range(1,n+1):\n",
    "    if n%i==0:\n",
    "        print(i,\"factor of\",n)\n",
    "        count=count+1\n",
    "if count==2:\n",
    "    print(n,\"is prime\")\n",
    "else:\n",
    "    print(n,\"is composite\")\n",
    "        "
   ]
  },
  {
   "cell_type": "code",
   "execution_count": 59,
   "id": "bf50719a-5999-4412-8b7d-f0397d88a083",
   "metadata": {},
   "outputs": [
    {
     "name": "stdout",
     "output_type": "stream",
     "text": [
      "2\n",
      "4\n",
      "56\n",
      "78\n",
      "90\n"
     ]
    }
   ],
   "source": [
    "l=[2,4,56,78,90,12,34,55,67,88]\n",
    "for i in l:\n",
    "    print(i)\n",
    "    if i%5==0:\n",
    "        break       "
   ]
  },
  {
   "cell_type": "code",
   "execution_count": 85,
   "id": "cc091c5c-9127-4228-92e3-417eeecd1ca1",
   "metadata": {},
   "outputs": [
    {
     "name": "stdout",
     "output_type": "stream",
     "text": [
      "2\n",
      "4\n",
      "56\n",
      "78\n",
      "90\n",
      "12\n",
      "34\n",
      "55\n"
     ]
    }
   ],
   "source": [
    "l=[2,4,56,78,90,12,34,55,67,88]\n",
    "count=0\n",
    "for i in l:\n",
    "    print(i)\n",
    "    if i%5==0:\n",
    "        count=count+1\n",
    "        if count==2:\n",
    "            break       "
   ]
  },
  {
   "cell_type": "code",
   "execution_count": 103,
   "id": "8410dfa2-5734-4e22-99aa-0c2ab300caa9",
   "metadata": {},
   "outputs": [
    {
     "name": "stdout",
     "output_type": "stream",
     "text": [
      "2 4 56 78 12 34 67 88 "
     ]
    }
   ],
   "source": [
    "l=[2,4,56,78,90,12,34,55,67,88]\n",
    "for i in l:\n",
    "    if i%5==0:\n",
    "        continue\n",
    "    print(i,end=\" \")\n",
    "\n",
    "              "
   ]
  },
  {
   "cell_type": "markdown",
   "id": "a324dde6-2b74-4691-90f5-805d979a7a8f",
   "metadata": {},
   "source": [
    "##### wap to display table of the numbers lies in the range given by the user"
   ]
  },
  {
   "cell_type": "code",
   "execution_count": 120,
   "id": "8a04b71a-e18f-416c-a760-d915bdfacf95",
   "metadata": {},
   "outputs": [
    {
     "name": "stdin",
     "output_type": "stream",
     "text": [
      "enter the start 2\n",
      "enter the end 3\n"
     ]
    },
    {
     "name": "stdout",
     "output_type": "stream",
     "text": [
      "2 * 1 = 2\n",
      "2 * 2 = 4\n",
      "2 * 3 = 6\n",
      "2 * 4 = 8\n",
      "2 * 5 = 10\n",
      "2 * 6 = 12\n",
      "2 * 7 = 14\n",
      "2 * 8 = 16\n",
      "2 * 9 = 18\n",
      "2 * 10 = 20\n",
      "3 * 1 = 3\n",
      "3 * 2 = 6\n",
      "3 * 3 = 9\n",
      "3 * 4 = 12\n",
      "3 * 5 = 15\n",
      "3 * 6 = 18\n",
      "3 * 7 = 21\n",
      "3 * 8 = 24\n",
      "3 * 9 = 27\n",
      "3 * 10 = 30\n"
     ]
    }
   ],
   "source": [
    "start=int(input(\"enter the start\"))\n",
    "end= int(input(\"enter the end\"))\n",
    "for n in range(start,end+1):\n",
    "    for i in  range(1,11):\n",
    "        print(n,\"*\",i,\"=\",n*i)"
   ]
  },
  {
   "cell_type": "code",
   "execution_count": 142,
   "id": "32bce105-f858-4a6b-84e0-1873637fb1c0",
   "metadata": {},
   "outputs": [
    {
     "name": "stdin",
     "output_type": "stream",
     "text": [
      "enter the start 1\n",
      "enter the end 9\n"
     ]
    },
    {
     "name": "stdout",
     "output_type": "stream",
     "text": [
      "2 the prime\n",
      "3 the prime\n",
      "5 the prime\n",
      "7 the prime\n",
      "4\n"
     ]
    }
   ],
   "source": [
    "start=int(input(\"enter the start\"))\n",
    "end= int(input(\"enter the end\"))\n",
    "count_p=0\n",
    "for n in range(start,end+1):\n",
    "    count=0\n",
    "    for i in range(1,n+1):\n",
    "        if n%i==0:\n",
    "            count=count+1\n",
    "    if count==2:\n",
    "        print(i,\"the prime\")\n",
    "        count_p=count_p+1\n",
    "print(count_p)\n",
    "    \n",
    "                  "
   ]
  },
  {
   "cell_type": "code",
   "execution_count": 160,
   "id": "0368cfab-ad74-4e73-9167-566f6c1dd0e9",
   "metadata": {},
   "outputs": [
    {
     "name": "stdout",
     "output_type": "stream",
     "text": [
      "h is cons\n",
      "a is vowel\n",
      "p is cons\n",
      "p is cons\n",
      "y is cons\n",
      "s is cons\n",
      "a is vowel\n",
      "d is cons\n",
      "e is vowel\n",
      "x is cons\n",
      "c is cons\n",
      "i is vowel\n",
      "t is cons\n",
      "e is vowel\n",
      "d is cons\n",
      "c is cons\n",
      "r is cons\n",
      "y is cons\n",
      "i is vowel\n",
      "n is cons\n",
      "g is cons\n",
      "Total Vowels 6\n",
      "Total Cons 15\n"
     ]
    }
   ],
   "source": [
    "l=[\"happy\",\"sad\",\"excited\",\"crying\"]\n",
    "count_c=0\n",
    "count_v=0\n",
    "for ch in l:\n",
    "    for i in ch:\n",
    "        if i in \"aeiouAEIOU\":\n",
    "            print(i,\"is vowel\")\n",
    "            count_v=count_v+1\n",
    "        else:\n",
    "            print(i,\"is cons\")\n",
    "            count_c=count_c+1\n",
    "print(\"Total Vowels\",count_v)\n",
    "print(\"Total Cons\",count_c)"
   ]
  },
  {
   "cell_type": "code",
   "execution_count": 169,
   "id": "8611b757-966b-4fee-8d5c-85d911d63ee6",
   "metadata": {},
   "outputs": [
    {
     "name": "stdout",
     "output_type": "stream",
     "text": [
      "h is cons\n",
      "a is vowel\n",
      "p is cons\n",
      "p is cons\n",
      "y is cons\n",
      "Total Vowels 1\n",
      "Total Cons 4\n",
      "s is cons\n",
      "a is vowel\n",
      "d is cons\n",
      "Total Vowels 2\n",
      "Total Cons 6\n",
      "e is vowel\n",
      "x is cons\n",
      "c is cons\n",
      "i is vowel\n",
      "t is cons\n",
      "e is vowel\n",
      "d is cons\n",
      "Total Vowels 5\n",
      "Total Cons 10\n",
      "c is cons\n",
      "r is cons\n",
      "y is cons\n",
      "i is vowel\n",
      "n is cons\n",
      "g is cons\n",
      "Total Vowels 6\n",
      "Total Cons 15\n"
     ]
    }
   ],
   "source": [
    "l=[\"happy\",\"sad\",\"excited\",\"crying\"]\n",
    "count_c=0\n",
    "count_v=0\n",
    "for ch in l:\n",
    "    for i in ch:\n",
    "        if i in \"aeiouAEIOU\":\n",
    "            print(i,\"is vowel\")\n",
    "            count_v=count_v+1\n",
    "        else:\n",
    "            print(i,\"is cons\")\n",
    "            count_c=count_c+1\n",
    "    print(\"Total Vowels\",count_v)\n",
    "    print(\"Total Cons\",count_c)"
   ]
  },
  {
   "cell_type": "markdown",
   "id": "95182f30-f5e1-43e2-8718-2d3ce6b4e0d2",
   "metadata": {},
   "source": [
    "##### Questions:\n",
    "     Q1.Write a Python function find_longest_word that takes a list of words and returns the longest word along with its length.\n",
    "     Q2.Write a Python function remove_duplicates that takes a list and returns a new list with duplicates removed, preserving the original order.\n",
    "     Q3.Write a Python function fizz_buzz that takes an integer n and returns a list of strings with the numbers from 1 to n, but for multiples of three it returns \"Fizz\" instead of the number and for the multiples of five it returns \"Buzz\". For numbers which are multiples of both three and five, return \"FizzBuzz\".\n",
    "     Q4.Write a Python function sum_of_digits that takes an integer and returns the sum of its digits."
   ]
  },
  {
   "cell_type": "code",
   "execution_count": 181,
   "id": "0b5f0da6-3a3d-403e-ad91-8d1644936d8a",
   "metadata": {},
   "outputs": [
    {
     "name": "stdout",
     "output_type": "stream",
     "text": [
      "[2, 4, 5, 6, 7, 8, 9, 3, 1]\n"
     ]
    }
   ],
   "source": [
    "l=[2,4,5,6,7,8,9,5,7,8,4,3,6,1]\n",
    "a=[]\n",
    "for i in l:\n",
    "    if i not in a:\n",
    "        a.append(i)\n",
    "print(a)\n",
    "\n",
    "        "
   ]
  },
  {
   "cell_type": "code",
   "execution_count": 191,
   "id": "3dc497f7-ad47-4923-8b3d-8184cb314d8b",
   "metadata": {},
   "outputs": [
    {
     "name": "stdin",
     "output_type": "stream",
     "text": [
      "enter the start 3\n",
      "enter the end 100\n"
     ]
    },
    {
     "name": "stdout",
     "output_type": "stream",
     "text": [
      "3 Fizz\n",
      "5 Buzz\n",
      "6 Fizz\n",
      "9 Fizz\n",
      "10 Buzz\n",
      "12 Fizz\n",
      "15 FizzBuzz\n",
      "18 Fizz\n",
      "20 Buzz\n",
      "21 Fizz\n",
      "24 Fizz\n",
      "25 Buzz\n",
      "27 Fizz\n",
      "30 FizzBuzz\n",
      "33 Fizz\n",
      "35 Buzz\n",
      "36 Fizz\n",
      "39 Fizz\n",
      "40 Buzz\n",
      "42 Fizz\n",
      "45 FizzBuzz\n",
      "48 Fizz\n",
      "50 Buzz\n",
      "51 Fizz\n",
      "54 Fizz\n",
      "55 Buzz\n",
      "57 Fizz\n",
      "60 FizzBuzz\n",
      "63 Fizz\n",
      "65 Buzz\n",
      "66 Fizz\n",
      "69 Fizz\n",
      "70 Buzz\n",
      "72 Fizz\n",
      "75 FizzBuzz\n",
      "78 Fizz\n",
      "80 Buzz\n",
      "81 Fizz\n",
      "84 Fizz\n",
      "85 Buzz\n",
      "87 Fizz\n",
      "90 FizzBuzz\n",
      "93 Fizz\n",
      "95 Buzz\n",
      "96 Fizz\n",
      "99 Fizz\n",
      "100 Buzz\n"
     ]
    }
   ],
   "source": [
    "start=int(input(\"enter the start\"))\n",
    "end=int(input(\"enter the end\"))\n",
    "for i in range(start,end+1):\n",
    "    if i%3==0 and i%5==0:\n",
    "        print(i,\"FizzBuzz\")\n",
    "    elif i%3==0:\n",
    "        print(i,\"Fizz\")\n",
    "    elif i%5==0:\n",
    "        print(i,\"Buzz\") \n",
    "        \n",
    "          "
   ]
  },
  {
   "cell_type": "code",
   "execution_count": 9,
   "id": "f5ef824e-185d-4e4b-9a79-2d500bd804bf",
   "metadata": {},
   "outputs": [
    {
     "name": "stdin",
     "output_type": "stream",
     "text": [
      "enter the number 235\n"
     ]
    },
    {
     "name": "stdout",
     "output_type": "stream",
     "text": [
      "10\n"
     ]
    }
   ],
   "source": [
    "n=input(\"enter the number\")\n",
    "sum=0\n",
    "for i in n:\n",
    "    sum=sum+int(i)\n",
    "print(sum) \n",
    "    \n",
    "    \n",
    "    \n",
    "    \n",
    "    \n",
    "    \n"
   ]
  },
  {
   "cell_type": "code",
   "execution_count": 5,
   "id": "8ba89162-d89b-440f-8ccb-61032148144e",
   "metadata": {},
   "outputs": [
    {
     "name": "stdout",
     "output_type": "stream",
     "text": [
      "excited\n"
     ]
    }
   ],
   "source": [
    "l=[\"happy\",\"sad\",\"excited\",\"crying\"]\n",
    "a=''\n",
    "for i in l:\n",
    "    if len(a)<len(i):\n",
    "        a=l[l.index(i)]\n",
    "print(a)"
   ]
  },
  {
   "cell_type": "code",
   "execution_count": 9,
   "id": "f029050a-1b0d-4606-8f3b-d4421f8d8e27",
   "metadata": {},
   "outputs": [
    {
     "name": "stdout",
     "output_type": "stream",
     "text": [
      "0\n",
      "1\n",
      "2\n",
      "3\n",
      "4\n",
      "5\n"
     ]
    }
   ],
   "source": [
    "for i in range(0,10):\n",
    "    print(i)\n",
    "    if i==5:\n",
    "        break"
   ]
  },
  {
   "cell_type": "code",
   "execution_count": 11,
   "id": "083ee0bf-843b-4bcf-8257-e0cbdb9d525e",
   "metadata": {},
   "outputs": [
    {
     "name": "stdout",
     "output_type": "stream",
     "text": [
      "5\n"
     ]
    }
   ],
   "source": [
    "for i in range(0,10):\n",
    "    if i==5:\n",
    "         print(i)\n",
    "         break"
   ]
  },
  {
   "cell_type": "code",
   "execution_count": 17,
   "id": "e442db6f-6962-4af1-b3ba-5b298ee48423",
   "metadata": {},
   "outputs": [
    {
     "name": "stdout",
     "output_type": "stream",
     "text": [
      "1\n",
      "3\n",
      "5\n",
      "7\n",
      "9\n"
     ]
    }
   ],
   "source": [
    "for i in range(10):\n",
    "    if i%2==0:\n",
    "        continue\n",
    "    print(i)\n",
    "        "
   ]
  },
  {
   "cell_type": "code",
   "execution_count": 19,
   "id": "ec19890b-3c23-41d5-9bd4-13012278b29f",
   "metadata": {},
   "outputs": [
    {
     "ename": "NameError",
     "evalue": "name 'number' is not defined",
     "output_type": "error",
     "traceback": [
      "\u001b[1;31m---------------------------------------------------------------------------\u001b[0m",
      "\u001b[1;31mNameError\u001b[0m                                 Traceback (most recent call last)",
      "Cell \u001b[1;32mIn[19], line 5\u001b[0m\n\u001b[0;32m      3\u001b[0m     \u001b[38;5;28;01mpass\u001b[39;00m\n\u001b[0;32m      4\u001b[0m \u001b[38;5;28;01melse\u001b[39;00m:\n\u001b[1;32m----> 5\u001b[0m     \u001b[38;5;28mprint\u001b[39m(\u001b[38;5;124mf\u001b[39m\u001b[38;5;124m\"\u001b[39m\u001b[38;5;132;01m{\u001b[39;00mnumber\u001b[38;5;132;01m}\u001b[39;00m\u001b[38;5;124m- is odd\u001b[39m\u001b[38;5;124m\"\u001b[39m)\n",
      "\u001b[1;31mNameError\u001b[0m: name 'number' is not defined"
     ]
    }
   ],
   "source": [
    "for i in range(5):\n",
    "    if i%2==0:\n",
    "        pass\n",
    "    else:\n",
    "        print(f\"{number}- is odd\")\n",
    "    \n",
    "        "
   ]
  },
  {
   "cell_type": "code",
   "execution_count": null,
   "id": "c5f7edd3-e11e-451d-aaba-d77f68ea42ed",
   "metadata": {},
   "outputs": [],
   "source": [
    "valid_inputs=(\"yes\",\"no\",\"maybe\")\n",
    "while True:\n",
    "    user_input=input(\"enter \"yes\",\"no\",or \"maybe\"(type exit to quit):\")\n",
    "    if user_input==\"exit\"\n",
    "    \n",
    "    \n",
    "    \n",
    "    "
   ]
  },
  {
   "cell_type": "code",
   "execution_count": 21,
   "id": "dac0b5e9-2486-4415-b1f1-f8e15583c8ee",
   "metadata": {},
   "outputs": [
    {
     "name": "stdin",
     "output_type": "stream",
     "text": [
      "enter the start 1\n",
      "enter the end 100\n"
     ]
    },
    {
     "name": "stdout",
     "output_type": "stream",
     "text": [
      "2 the prime\n",
      "3 the prime\n",
      "5 the prime\n",
      "7 the prime\n",
      "11 the prime\n",
      "13 the prime\n",
      "17 the prime\n",
      "19 the prime\n",
      "23 the prime\n",
      "29 the prime\n",
      "31 the prime\n",
      "37 the prime\n",
      "41 the prime\n",
      "43 the prime\n",
      "47 the prime\n",
      "53 the prime\n",
      "59 the prime\n",
      "61 the prime\n",
      "67 the prime\n",
      "71 the prime\n",
      "73 the prime\n",
      "79 the prime\n",
      "83 the prime\n",
      "89 the prime\n",
      "97 the prime\n",
      "25\n"
     ]
    }
   ],
   "source": [
    "n1=int(input(\"enter the num\"))\n",
    "n2= int(input(\"enter the num\"))\n",
    "p=0\n",
    "for n in range(n1,n2+1):\n",
    "    count=0\n",
    "    for i in range(1,n+1):\n",
    "        if n%i==0:\n",
    "            count=count+1\n",
    "    if count==2:\n",
    "        print(i,\"the prime\")\n",
    "        p=p+1\n",
    "print(p)"
   ]
  },
  {
   "cell_type": "markdown",
   "id": "e9b1d198-2cbd-4cf7-a910-8c4112bb0400",
   "metadata": {},
   "source": [
    "### mini Calculator"
   ]
  },
  {
   "cell_type": "code",
   "execution_count": 6,
   "id": "2e891774-db92-4b48-acc8-658feeb4de11",
   "metadata": {},
   "outputs": [
    {
     "name": "stdin",
     "output_type": "stream",
     "text": [
      "Operation to perform **\n",
      "enter the first number 6\n",
      "enter the second number 2\n"
     ]
    },
    {
     "name": "stdout",
     "output_type": "stream",
     "text": [
      "exponential 36\n"
     ]
    }
   ],
   "source": [
    "a=input(\"Operation to perform\")\n",
    "n1=int(input(\"enter the first number\"))\n",
    "n2=int(input(\"enter the second number\"))\n",
    "if a==\"+\":\n",
    "    print(\"Additon\",n1+n2)\n",
    "elif a==\"-\":\n",
    "    print(\"Subtraction\",n1-n2)\n",
    "elif a==\"*\":\n",
    "    print(\"multiplication\",n1*n2)\n",
    "elif a==\"/\":\n",
    "    print(\"division\",n1/n2)\n",
    "elif a==\"**\":\n",
    "    print(\"exponential\",n1**2)\n",
    "else:\n",
    "    print(\"invalid operation\")"
   ]
  },
  {
   "cell_type": "code",
   "execution_count": null,
   "id": "103ec125-5f19-4cf9-83d3-22c42d2fca0b",
   "metadata": {},
   "outputs": [],
   "source": []
  }
 ],
 "metadata": {
  "kernelspec": {
   "display_name": "Python 3 (ipykernel)",
   "language": "python",
   "name": "python3"
  },
  "language_info": {
   "codemirror_mode": {
    "name": "ipython",
    "version": 3
   },
   "file_extension": ".py",
   "mimetype": "text/x-python",
   "name": "python",
   "nbconvert_exporter": "python",
   "pygments_lexer": "ipython3",
   "version": "3.12.4"
  }
 },
 "nbformat": 4,
 "nbformat_minor": 5
}
