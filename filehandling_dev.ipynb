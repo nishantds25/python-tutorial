{
 "cells": [
  {
   "cell_type": "markdown",
   "id": "c6e48836-5378-4539-a871-6ca726107ad2",
   "metadata": {},
   "source": [
    "### File handling in Python is an essential skill for dealing with files such as text files, CSVs, and more. I'll cover all the key concepts and functions in file handling in Python, including reading, writing, appending, and managing different types of files."
   ]
  },
  {
   "cell_type": "markdown",
   "id": "ca0b679e-75bb-4e07-a72f-a62be48974e5",
   "metadata": {},
   "source": [
    "- Opening and Closing Files\n",
    "#### Python uses the open() function to open files. The syntax is:"
   ]
  },
  {
   "cell_type": "code",
   "execution_count": null,
   "id": "3831d11a-5866-4d2d-ad02-3d5e8df3df12",
   "metadata": {},
   "outputs": [],
   "source": [
    "file = open(filename, mode)\n"
   ]
  },
  {
   "cell_type": "markdown",
   "id": "9f44f04d-3e8e-44ec-a6a1-607d6ab0001e",
   "metadata": {},
   "source": [
    "- filename: The name of the file to be opened.\n",
    "- mode: Specifies the mode in which the file should be opened."
   ]
  },
  {
   "cell_type": "markdown",
   "id": "546e0dc8-5e2a-43a7-9ce3-b4ea18b5d256",
   "metadata": {},
   "source": [
    "##### Modes of Opening Files:\n",
    "\n",
    "- r (Read Mode): Opens a file for reading. If the file doesn’t exist, it raises an error.\n",
    "- w (Write Mode): Opens a file for writing. If the file already exists, it truncates (overwrites) the file.\n",
    "- a (Append Mode): Opens a file for appending. Data is added to the end of the file.\n",
    "- r+ (Read and Write Mode): Opens a file for both reading and writing.\n",
    "- w+ (Write and Read Mode): Opens a file for writing and reading. If the file exists, it overwrites it.\n",
    "- a+ (Append and Read Mode): Opens a file for appending and reading.\n",
    "- x (Exclusive Creation Mode): Creates a new file. If the file exists, it raises an error.\n",
    "- b (Binary Mode): Appends to the mode to work with binary files. E.g., rb, wb.\n",
    "- t (Text Mode): Text mode, used by default. E.g., rt, wt."
   ]
  },
  {
   "cell_type": "markdown",
   "id": "7e7a1ec3-7d62-4d3b-92d7-ec410465c4fc",
   "metadata": {},
   "source": [
    "### Closing Files:\n",
    "\n",
    "- Always close a file after working with it using the close() method."
   ]
  },
  {
   "cell_type": "code",
   "execution_count": null,
   "id": "779a4c0c-df8f-498d-a4e7-c0ff96d479fc",
   "metadata": {},
   "outputs": [],
   "source": [
    "file = open('example.txt', 'r')\n",
    "# Perform file operations\n",
    "file.close()\n"
   ]
  },
  {
   "cell_type": "code",
   "execution_count": null,
   "id": "79760da8-3ed0-4d1a-a8a3-f0008bd9761c",
   "metadata": {},
   "outputs": [],
   "source": [
    "with open('example.txt', 'r') as file:\n",
    "    # Perform file operations\n",
    "    pass\n",
    "# File is automatically closed after this block\n"
   ]
  },
  {
   "cell_type": "markdown",
   "id": "9bb57b06-bb9a-4287-a0b8-4b6930fa96e1",
   "metadata": {},
   "source": [
    "### Reading Files\n",
    "Python provides multiple methods for reading from files.\n",
    "\n",
    "- read(size): Reads the file content as a string. The optional size parameter defines the number of bytes to read."
   ]
  },
  {
   "cell_type": "code",
   "execution_count": null,
   "id": "3168421b-1a75-4961-98fd-83daf3a9782d",
   "metadata": {},
   "outputs": [],
   "source": [
    "with open('example.txt', 'r') as file:\n",
    "    content = file.read(10)  # Reads the first 10 bytes\n"
   ]
  },
  {
   "cell_type": "code",
   "execution_count": null,
   "id": "ffbcc24c-0cbf-4305-a423-2b2fe5b0746c",
   "metadata": {},
   "outputs": [],
   "source": [
    "with open('example.txt', 'r') as file:\n",
    "    first_line = file.readline()  # Reads the first line\n"
   ]
  },
  {
   "cell_type": "code",
   "execution_count": null,
   "id": "42b9662d-47f5-420b-93b4-18a419c86cea",
   "metadata": {},
   "outputs": [],
   "source": [
    "with open('example.txt', 'r') as file:\n",
    "    lines = file.readlines()  # Returns a list of all lines\n"
   ]
  },
  {
   "cell_type": "markdown",
   "id": "a54fd446-aa73-4c5a-8458-9407bc5dee2b",
   "metadata": {},
   "source": [
    "### Writing to Files\n",
    "- Python provides methods to write data to files.\n",
    "\n",
    "- write(string): Writes the given string to the file."
   ]
  },
  {
   "cell_type": "code",
   "execution_count": 3,
   "id": "b902d02e-f40b-4cd4-8eaf-618633222e2e",
   "metadata": {},
   "outputs": [
    {
     "name": "stdout",
     "output_type": "stream",
     "text": [
      "\n"
     ]
    }
   ],
   "source": [
    "with open('example.txt', 'w+') as file:\n",
    "    file.write(\"Hello, World!\")\n",
    "    print(file.read(10))\n"
   ]
  },
  {
   "cell_type": "markdown",
   "id": "de52321c-8378-4ef4-96a2-cd244cb24e1c",
   "metadata": {},
   "source": [
    "writelines(list_of_strings): Writes a list of strings to the file.\n",
    "Each string is written exactly as it is, without any newline characters\n",
    "being automatically added."
   ]
  },
  {
   "cell_type": "code",
   "execution_count": 9,
   "id": "592eba30-a69b-45b9-b454-2f91120b3f2a",
   "metadata": {},
   "outputs": [],
   "source": [
    "\n",
    "lines = [\"Hello, python\\n\", \"solve this ques.\\n\"]\n",
    "\n",
    "with open('byebyee.txt', 'w') as file:\n",
    "    file.writelines(lines)\n"
   ]
  },
  {
   "cell_type": "code",
   "execution_count": 11,
   "id": "c571edaa-409f-48b5-9a81-082faebe864d",
   "metadata": {},
   "outputs": [],
   "source": []
  },
  {
   "cell_type": "markdown",
   "id": "2e184d70-24d3-4c1d-9ae9-10476449c8c7",
   "metadata": {},
   "source": [
    "- Appending to Files\n",
    "\n",
    "\n",
    "Use a or a+ mode to add content without overwriting the existing file."
   ]
  },
  {
   "cell_type": "code",
   "execution_count": null,
   "id": "6b258ad3-c7cd-4cef-861c-c45c6673ab56",
   "metadata": {},
   "outputs": [],
   "source": []
  },
  {
   "cell_type": "code",
   "execution_count": null,
   "id": "51e238ce-6d40-4172-85b5-c1c0b56a24d1",
   "metadata": {},
   "outputs": [],
   "source": [
    "with open('example.txt', 'a') as file:\n",
    "    file.write(\"This will be appended to the file.\")\n"
   ]
  },
  {
   "cell_type": "markdown",
   "id": "4a2d9fcf-66cd-4118-b6e7-edf2cb58f83f",
   "metadata": {},
   "source": [
    "##### Working with Binary Files\n",
    "- Binary files, such as images or audio, require the use of binary modes (rb, wb, etc.)."
   ]
  },
  {
   "cell_type": "code",
   "execution_count": null,
   "id": "5cb435ff-0899-4992-a483-00ac123f1b34",
   "metadata": {},
   "outputs": [],
   "source": [
    "with open('image.jpg', 'rb') as file:\n",
    "    content = file.read()\n"
   ]
  },
  {
   "cell_type": "code",
   "execution_count": null,
   "id": "09e9c46a-e2a1-4fdb-9d7a-9c503fd1bc56",
   "metadata": {},
   "outputs": [],
   "source": [
    "with open('new_image.jpg', 'wb') as file:\n",
    "    file.write(content)\n"
   ]
  },
  {
   "cell_type": "code",
   "execution_count": null,
   "id": "ad02f43b-ebcc-4230-a701-992e14876bf3",
   "metadata": {},
   "outputs": [],
   "source": [
    "hello world"
   ]
  },
  {
   "cell_type": "markdown",
   "id": "e6977e75-c023-4f87-b6a6-79da07bce553",
   "metadata": {},
   "source": [
    "###### File Pointer and seek() Function\n",
    "- tell(): Returns the current file pointer position."
   ]
  },
  {
   "cell_type": "markdown",
   "id": "c44595df-e7bd-4b6f-ad89-025b5c487e4a",
   "metadata": {},
   "source": [
    "- seek(offset, whence): Moves the file pointer to a specific location.\n",
    "- offset: The number of bytes to move the pointer.\n",
    "- whence: Default is 0 (beginning of the file), 1 (current position), 2 (end of the file)."
   ]
  },
  {
   "cell_type": "code",
   "execution_count": 23,
   "id": "72d04ad5-728d-4849-9959-6715aa00712d",
   "metadata": {},
   "outputs": [
    {
     "ename": "UnsupportedOperation",
     "evalue": "can't do nonzero cur-relative seeks",
     "output_type": "error",
     "traceback": [
      "\u001b[0;31m---------------------------------------------------------------------------\u001b[0m",
      "\u001b[0;31mUnsupportedOperation\u001b[0m                      Traceback (most recent call last)",
      "Cell \u001b[0;32mIn[23], line 2\u001b[0m\n\u001b[1;32m      1\u001b[0m \u001b[38;5;28;01mwith\u001b[39;00m \u001b[38;5;28mopen\u001b[39m(\u001b[38;5;124m'\u001b[39m\u001b[38;5;124mbyebyee.txt\u001b[39m\u001b[38;5;124m'\u001b[39m, \u001b[38;5;124m'\u001b[39m\u001b[38;5;124mr\u001b[39m\u001b[38;5;124m'\u001b[39m) \u001b[38;5;28;01mas\u001b[39;00m file:\n\u001b[0;32m----> 2\u001b[0m     file\u001b[38;5;241m.\u001b[39mseek(\u001b[38;5;241m2\u001b[39m,\u001b[38;5;241m1\u001b[39m)  \u001b[38;5;66;03m# Moves the pointer to the 6th byte\u001b[39;00m\n\u001b[1;32m      3\u001b[0m     contents \u001b[38;5;241m=\u001b[39m file\u001b[38;5;241m.\u001b[39mread(\u001b[38;5;241m3\u001b[39m)\n\u001b[1;32m      4\u001b[0m     \u001b[38;5;28mprint\u001b[39m(contents)\n",
      "\u001b[0;31mUnsupportedOperation\u001b[0m: can't do nonzero cur-relative seeks"
     ]
    }
   ],
   "source": [
    "with open('byebyee.txt', 'r') as file:\n",
    "    file.seek(2,1)  # Moves the pointer to the 6th byte\n",
    "    contents = file.read(3)\n",
    "    print(contents)  # Reads from the 6th byte onward\n"
   ]
  },
  {
   "cell_type": "code",
   "execution_count": 5,
   "id": "5261bfef-85d7-485b-acf9-5e163976be0e",
   "metadata": {},
   "outputs": [
    {
     "name": "stdout",
     "output_type": "stream",
     "text": [
      "The file does not exist.\n"
     ]
    }
   ],
   "source": [
    "try:\n",
    "    with open('non_existent.txt', 'r') as file:\n",
    "        content = file.read()\n",
    "except FileNotFoundError:\n",
    "    print(\"The file does not exist.\")"
   ]
  },
  {
   "cell_type": "markdown",
   "id": "f4bb9941-4b40-454c-a221-6324bf4ae432",
   "metadata": {},
   "source": [
    "### File Handling Exceptions\n",
    "- It is essential to handle exceptions to prevent errors while working with files."
   ]
  },
  {
   "cell_type": "code",
   "execution_count": 7,
   "id": "3d9ad7dd-4cce-4c55-a533-b116b35e67b3",
   "metadata": {},
   "outputs": [
    {
     "name": "stdout",
     "output_type": "stream",
     "text": [
      "The file does not exist.\n",
      "the code is executed\n"
     ]
    }
   ],
   "source": [
    "try:\n",
    "    with open('non_existent.txt', 'r') as file:\n",
    "        content = file.read()\n",
    "except FileNotFoundError:\n",
    "    print(\"The file does not exist.\")\n",
    "except IOError:\n",
    "    print(\"An I/O error occurred.\")\n",
    "else:\n",
    "    print(\"the file is opened successfully\")\n",
    "finally:\n",
    "    print(\"the code is executed\")\n"
   ]
  },
  {
   "cell_type": "code",
   "execution_count": 25,
   "id": "64285e3b-718b-411e-be9f-26378089ab7a",
   "metadata": {},
   "outputs": [
    {
     "name": "stdout",
     "output_type": "stream",
     "text": [
      "the time taken for the execution of the loop is 0.0016\n"
     ]
    }
   ],
   "source": [
    "import time\n",
    "\n",
    "st=time.time()\n",
    "\n",
    "for i in range(1,10000):\n",
    "    a=i**2\n",
    "\n",
    "et=time.time()\n",
    "\n",
    "exec=et-st\n",
    "\n",
    "print(f\"the time taken for the execution of the loop is {exec:.4f}\")"
   ]
  },
  {
   "cell_type": "markdown",
   "id": "4e234b45-ad30-4ae8-9f15-8c5b9964dabe",
   "metadata": {},
   "source": [
    "### File Attributes\n",
    "- file.name: Returns the name of the file.\n",
    "- file.mode: Returns the mode in which the file was opened.\n",
    "- file.closed: Returns True if the file is closed, otherwise False."
   ]
  },
  {
   "cell_type": "code",
   "execution_count": null,
   "id": "71d7e84b-a86d-4e86-a86d-0957be090b5e",
   "metadata": {},
   "outputs": [],
   "source": [
    "with open('example.txt', 'r') as file:\n",
    "    print(file.name)   # Outputs: example.txt\n",
    "    print(file.mode)   # Outputs: r\n",
    "print(file.closed)     # Outputs: True\n"
   ]
  },
  {
   "cell_type": "markdown",
   "id": "62f95136-f5bb-44d7-ae27-6b4e81778e68",
   "metadata": {},
   "source": [
    "#### Using os and shutil Modules for File Handling\n",
    "- The os and shutil modules provide additional utilities for working with files."
   ]
  },
  {
   "cell_type": "code",
   "execution_count": null,
   "id": "61c818b3-b0e5-4466-bf55-457420b4e5ea",
   "metadata": {},
   "outputs": [],
   "source": [
    "import os\n",
    "os.rename('old_name.txt', 'new_name.txt')\n"
   ]
  },
  {
   "cell_type": "code",
   "execution_count": null,
   "id": "f04f6773-543f-4b7d-96f1-95196c7ca4bc",
   "metadata": {},
   "outputs": [],
   "source": [
    "import os\n",
    "os.remove('example.txt')\n"
   ]
  },
  {
   "cell_type": "code",
   "execution_count": null,
   "id": "32ab0051-1aec-4214-bef6-6f5b1f432cc5",
   "metadata": {},
   "outputs": [],
   "source": [
    "import shutil\n",
    "shutil.copy('source.txt', 'destination.txt')\n"
   ]
  },
  {
   "cell_type": "code",
   "execution_count": null,
   "id": "6c1de8e4-265b-404f-9130-c7f1a78f98aa",
   "metadata": {},
   "outputs": [],
   "source": [
    "import os\n",
    "if os.path.exists('example.txt'):\n",
    "    print(\"File exists.\")\n",
    "else:\n",
    "    print(\"File does not exist.\")\n"
   ]
  },
  {
   "cell_type": "code",
   "execution_count": null,
   "id": "3bed4f25-c320-4436-ab32-0a31d9f7de14",
   "metadata": {},
   "outputs": [],
   "source": []
  },
  {
   "cell_type": "code",
   "execution_count": null,
   "id": "086db14c-1914-45a1-b5f6-e192e9991e1b",
   "metadata": {},
   "outputs": [],
   "source": []
  }
 ],
 "metadata": {
  "kernelspec": {
   "display_name": "Python 3 (ipykernel)",
   "language": "python",
   "name": "python3"
  },
  "language_info": {
   "codemirror_mode": {
    "name": "ipython",
    "version": 3
   },
   "file_extension": ".py",
   "mimetype": "text/x-python",
   "name": "python",
   "nbconvert_exporter": "python",
   "pygments_lexer": "ipython3",
   "version": "3.12.4"
  }
 },
 "nbformat": 4,
 "nbformat_minor": 5
}
